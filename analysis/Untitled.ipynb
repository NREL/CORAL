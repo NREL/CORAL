{
 "cells": [
  {
   "cell_type": "code",
   "execution_count": 2,
   "id": "7632402d",
   "metadata": {},
   "outputs": [
    {
     "ename": "ModuleNotFoundError",
     "evalue": "No module named 'CORAL'",
     "output_type": "error",
     "traceback": [
      "\u001b[0;31m---------------------------------------------------------------------------\u001b[0m",
      "\u001b[0;31mModuleNotFoundError\u001b[0m                       Traceback (most recent call last)",
      "\u001b[0;32m/var/folders/mz/rdqhtwp16n39t5m4b5dbm1drlz1py3/T/ipykernel_60482/1904805279.py\u001b[0m in \u001b[0;36m<module>\u001b[0;34m\u001b[0m\n\u001b[1;32m      3\u001b[0m \u001b[0;32mimport\u001b[0m \u001b[0mnumpy\u001b[0m \u001b[0;32mas\u001b[0m \u001b[0mnp\u001b[0m\u001b[0;34m\u001b[0m\u001b[0;34m\u001b[0m\u001b[0m\n\u001b[1;32m      4\u001b[0m \u001b[0;34m\u001b[0m\u001b[0m\n\u001b[0;32m----> 5\u001b[0;31m \u001b[0;32mfrom\u001b[0m \u001b[0mCORAL\u001b[0m \u001b[0;32mimport\u001b[0m \u001b[0mFloatingPipeline\u001b[0m\u001b[0;34m,\u001b[0m \u001b[0mGlobalManager\u001b[0m\u001b[0;34m\u001b[0m\u001b[0;34m\u001b[0m\u001b[0m\n\u001b[0m\u001b[1;32m      6\u001b[0m \u001b[0;32mfrom\u001b[0m \u001b[0mCORAL\u001b[0m\u001b[0;34m.\u001b[0m\u001b[0mutils\u001b[0m \u001b[0;32mimport\u001b[0m \u001b[0mget_installed_capacity_by\u001b[0m\u001b[0;34m\u001b[0m\u001b[0;34m\u001b[0m\u001b[0m\n\u001b[1;32m      7\u001b[0m \u001b[0;32mfrom\u001b[0m \u001b[0mORBIT\u001b[0m\u001b[0;34m.\u001b[0m\u001b[0mcore\u001b[0m\u001b[0;34m.\u001b[0m\u001b[0mlibrary\u001b[0m \u001b[0;32mimport\u001b[0m \u001b[0minitialize_library\u001b[0m\u001b[0;34m\u001b[0m\u001b[0;34m\u001b[0m\u001b[0m\n",
      "\u001b[0;31mModuleNotFoundError\u001b[0m: No module named 'CORAL'"
     ]
    }
   ],
   "source": [
    "import os\n",
    "import pandas as pd\n",
    "import numpy as np\n",
    "\n",
    "from CORAL import FloatingPipeline, GlobalManager\n",
    "from CORAL.utils import get_installed_capacity_by\n",
    "from ORBIT.core.library import initialize_library\n",
    "import matplotlib.pyplot as plt\n",
    "import datetime as dt\n",
    "initialize_library(\"library\")\n",
    "\n",
    "from helpers import allocations, future_allocations\n",
    "from plot_routines import plot_gantt, plot_throughput, plot_gantt_nt, assign_colors, plot_summary"
   ]
  },
  {
   "cell_type": "code",
   "execution_count": null,
   "id": "e3b39800",
   "metadata": {},
   "outputs": [],
   "source": [
    "# Configure scenarios and keep_inputs\n",
    "projects = \"library/pipeline/wc-pipeline.xlsx\"\n",
    "#scenarios = ['Baseline-limited-ports', 'Baseline-South-CA', 'Baseline-Central-CA', 'Expanded-all-ports']\n",
    "scenarios = ['Baseline-limited-ports']\n",
    "base = \"base.yaml\"\n",
    "library_path = \"library\"\n",
    "weather_path = \"library/weather/humboldt_weather_2010_2018.csv\"\n",
    "savedir = \"results\"\n",
    "\n",
    "capacity_2045=[]\n",
    "\n",
    "writer = pd.ExcelWriter(\"results/cumulative-capacity.xlsx\")"
   ]
  },
  {
   "cell_type": "code",
   "execution_count": null,
   "id": "cd47819c",
   "metadata": {},
   "outputs": [],
   "source": []
  },
  {
   "cell_type": "code",
   "execution_count": null,
   "id": "140f62cd",
   "metadata": {},
   "outputs": [],
   "source": []
  }
 ],
 "metadata": {
  "kernelspec": {
   "display_name": "Python 3 (ipykernel)",
   "language": "python",
   "name": "python3"
  },
  "language_info": {
   "codemirror_mode": {
    "name": "ipython",
    "version": 3
   },
   "file_extension": ".py",
   "mimetype": "text/x-python",
   "name": "python",
   "nbconvert_exporter": "python",
   "pygments_lexer": "ipython3",
   "version": "3.9.13"
  }
 },
 "nbformat": 4,
 "nbformat_minor": 5
}
