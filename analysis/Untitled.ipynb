{
 "cells": [
  {
   "cell_type": "code",
   "execution_count": 1,
   "id": "24f7ac81",
   "metadata": {},
   "outputs": [
    {
     "ename": "ModuleNotFoundError",
     "evalue": "No module named 'CORAL'",
     "output_type": "error",
     "traceback": [
      "\u001b[0;31m---------------------------------------------------------------------------\u001b[0m",
      "\u001b[0;31mModuleNotFoundError\u001b[0m                       Traceback (most recent call last)",
      "\u001b[0;32m/var/folders/mz/rdqhtwp16n39t5m4b5dbm1drlz1py3/T/ipykernel_64037/1433971209.py\u001b[0m in \u001b[0;36m<module>\u001b[0;34m\u001b[0m\n\u001b[1;32m      2\u001b[0m \u001b[0;32mimport\u001b[0m \u001b[0mpandas\u001b[0m \u001b[0;32mas\u001b[0m \u001b[0mpd\u001b[0m\u001b[0;34m\u001b[0m\u001b[0;34m\u001b[0m\u001b[0m\n\u001b[1;32m      3\u001b[0m \u001b[0;34m\u001b[0m\u001b[0m\n\u001b[0;32m----> 4\u001b[0;31m \u001b[0;32mfrom\u001b[0m \u001b[0mCORAL\u001b[0m \u001b[0;32mimport\u001b[0m \u001b[0mFloatingPipeline\u001b[0m\u001b[0;34m,\u001b[0m \u001b[0mGlobalManager\u001b[0m\u001b[0;34m\u001b[0m\u001b[0;34m\u001b[0m\u001b[0m\n\u001b[0m\u001b[1;32m      5\u001b[0m \u001b[0;32mfrom\u001b[0m \u001b[0mORBIT\u001b[0m\u001b[0;34m.\u001b[0m\u001b[0mcore\u001b[0m\u001b[0;34m.\u001b[0m\u001b[0mlibrary\u001b[0m \u001b[0;32mimport\u001b[0m \u001b[0minitialize_library\u001b[0m\u001b[0;34m\u001b[0m\u001b[0;34m\u001b[0m\u001b[0m\n\u001b[1;32m      6\u001b[0m \u001b[0;32mimport\u001b[0m \u001b[0mmatplotlib\u001b[0m\u001b[0;34m.\u001b[0m\u001b[0mpyplot\u001b[0m \u001b[0;32mas\u001b[0m \u001b[0mplt\u001b[0m\u001b[0;34m\u001b[0m\u001b[0;34m\u001b[0m\u001b[0m\n",
      "\u001b[0;31mModuleNotFoundError\u001b[0m: No module named 'CORAL'"
     ]
    }
   ],
   "source": [
    "import os\n",
    "import pandas as pd\n",
    "\n",
    "from CORAL import FloatingPipeline, GlobalManager\n",
    "from ORBIT.core.library import initialize_library\n",
    "import matplotlib.pyplot as plt\n",
    "import datetime as dt\n",
    "initialize_library(\"library\")\n",
    "\n",
    "from helpers import allocations, future_allocations\n",
    "from plot_routines import plot_gantt\n",
    "\n",
    "# Configure scenarios and keep_inputs\n",
    "projects = \"library/pipeline/wc-pipeline.xlsx\"\n",
    "# scenarios = ['Baseline - limited ports', 'Baseline - South CA', 'Baseline - Central CA', 'Expanded - all ports']\n",
    "scenarios = ['test']\n",
    "base = \"base.yaml\"\n",
    "library_path = \"library\"\n",
    "savedir = \"results\"\n",
    "\n",
    "\n",
    "if __name__ == '__main__':\n",
    "    for s in scenarios:\n",
    "        pipeline = FloatingPipeline(projects, base, sheet_name=s)\n",
    "        manager = GlobalManager(pipeline.configs, allocations[s], library_path=library_path)\n",
    "\n",
    "        # Check (and add) any port or vessel resources that are not online at the start of the simulatino\n",
    "        for s_fa,v in future_allocations.items():\n",
    "            if s_fa == s:\n",
    "                for vi in v:\n",
    "                    manager.add_future_resources(vi[0], vi[1], vi[2])\n",
    "\n",
    "\n",
    "\n",
    "        manager.run()\n",
    "\n",
    "        # Plot and save results\n",
    "        df = pd.DataFrame(manager.logs).iloc[::-1]\n",
    "        df = df.reset_index(drop=True).reset_index()\n",
    "\n",
    "        port_map = pipeline.projects[[\"name\", \"associated_port\"]].set_index(\"name\").to_dict()['associated_port']\n",
    "        df['port'] = [port_map[name] for name in df['name']]\n",
    "\n",
    "        # savefig = savedir + '/s' + '_gantt'\n",
    "        filename = str(s) + '_gantt'\n",
    "        savefig = os.path.join(os.getcwd(), savedir, filename)\n",
    "        plot_gantt(df, manager, fname=savefig)\n"
   ]
  },
  {
   "cell_type": "code",
   "execution_count": null,
   "id": "b4407bc4",
   "metadata": {},
   "outputs": [],
   "source": []
  }
 ],
 "metadata": {
  "kernelspec": {
   "display_name": "Python 3 (ipykernel)",
   "language": "python",
   "name": "python3"
  },
  "language_info": {
   "codemirror_mode": {
    "name": "ipython",
    "version": 3
   },
   "file_extension": ".py",
   "mimetype": "text/x-python",
   "name": "python",
   "nbconvert_exporter": "python",
   "pygments_lexer": "ipython3",
   "version": "3.9.13"
  }
 },
 "nbformat": 4,
 "nbformat_minor": 5
}
